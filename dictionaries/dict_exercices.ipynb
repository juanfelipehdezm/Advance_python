{
 "cells": [
  {
   "cell_type": "markdown",
   "metadata": {},
   "source": [
    "1. Create a function that takes a dictionary and return a disctionary sorted by values"
   ]
  },
  {
   "cell_type": "code",
   "execution_count": 1,
   "metadata": {},
   "outputs": [
    {
     "name": "stdout",
     "output_type": "stream",
     "text": [
      "{'Wolfgang': 35, 'Frederic': 39, 'Ludwif': 56, 'Johann': 65}\n"
     ]
    }
   ],
   "source": [
    "def sort_dict_by_values(d: dict) -> dict:\n",
    "    \n",
    "    d = dict(sorted(d.items(), key = lambda tup: tup[1]))\n",
    "\n",
    "    return d\n",
    "\n",
    "\n",
    "test_dict = {\"Johann\": 65, \"Ludwif\": 56, \"Frederic\": 39, \"Wolfgang\": 35}\n",
    "\n",
    "sorted_dict = sort_dict_by_values(test_dict)\n",
    "\n",
    "print(sorted_dict)"
   ]
  },
  {
   "cell_type": "markdown",
   "metadata": {},
   "source": [
    "2. Find the keys that are common in two dictionaries and return their values as tuples"
   ]
  },
  {
   "cell_type": "code",
   "execution_count": 2,
   "metadata": {},
   "outputs": [
    {
     "name": "stdout",
     "output_type": "stream",
     "text": [
      "{'b': (2, 20), 'c': (3, 30)}\n"
     ]
    }
   ],
   "source": [
    "def common_keys_in_a_dict(d1: dict, d2: dict) -> dict:\n",
    "    d1_keys = d1.keys()\n",
    "    d2_keys = d2.keys()\n",
    "\n",
    "    keys = d1_keys & d2_keys #the & operator will provided those key that are the same in both dicts\n",
    "\n",
    "    return {k: (d1[k], d2[k]) for k in keys}\n",
    "\n",
    "d1 = {\"a\": 1, \"b\":2, \"c\": 3, \"d\": 4}\n",
    "d2 = {\"b\": 20, \"c\":30, \"y\": 40, \"z\": 50}\n",
    "\n",
    "dict_with_keys = common_keys_in_a_dict(d1, d2)\n",
    "\n",
    "print(dict_with_keys)\n"
   ]
  },
  {
   "cell_type": "markdown",
   "metadata": {},
   "source": [
    "3. Cobine data from multiple sources into a single result"
   ]
  },
  {
   "cell_type": "code",
   "execution_count": 3,
   "metadata": {},
   "outputs": [
    {
     "name": "stdout",
     "output_type": "stream",
     "text": [
      "{'python': 17, 'javascript': 15, 'java': 13, 'c#': 12, 'c++': 10, 'go': 9, 'erlang': 5, 'haskell': 2, 'pascal': 1}\n"
     ]
    }
   ],
   "source": [
    "def combinning_dicts(*dicts : dict) -> dict:\n",
    "\n",
    "    if not dicts:\n",
    "        return \"None\"\n",
    "    merged_dict = {}\n",
    "\n",
    "    for d in dicts:\n",
    "        for k,v in d.items():\n",
    "            merged_dict[k] = merged_dict.get(k, 0) + v\n",
    "\n",
    "    return dict(sorted(merged_dict.items(), key = lambda tup: tup[1], reverse=True))\n",
    "\n",
    "d1 = {'python': 10, 'java': 3, 'c#': 8, 'javascript': 15}\n",
    "d2 = {'java': 10, 'c++': 10, 'c#': 4, 'go': 9, 'python': 6}\n",
    "d3 = {'erlang': 5, 'haskell': 2, 'python': 1, 'pascal': 1}\n",
    "\n",
    "consolidated_dict = combinning_dicts(d1,d2,d3)\n",
    "\n",
    "print(consolidated_dict)"
   ]
  },
  {
   "cell_type": "markdown",
   "metadata": {},
   "source": [
    "4. Merge 3 dictionaries but only with those key that does not appear in all dictionaries\n",
    " "
   ]
  },
  {
   "cell_type": "code",
   "execution_count": 4,
   "metadata": {},
   "outputs": [
    {
     "name": "stdout",
     "output_type": "stream",
     "text": [
      "{'employee': (5000, 0, 0), 'user': (100, 230, 0), 'login': (0, 0, 1000)}\n"
     ]
    }
   ],
   "source": [
    "def dict_with_notall_apperance_keys(node1, node2, node3):\n",
    "    union = node1.keys() | node2.keys() | node3.keys()\n",
    "    intersection = node1.keys() & node2.keys() & node3.keys()\n",
    "    relevant = union - intersection\n",
    "    return {\n",
    "        key: (node1.get(key, 0), node2.get(key, 0), node3.get(key, 0))\n",
    "        for key in relevant\n",
    "    }     \n",
    "n1 = {'employees': 100, 'employee': 5000, 'users': 10, 'user': 100}\n",
    "n2 = {'employees': 250, 'users': 23, 'user': 230}\n",
    "n3 = {'employees': 150, 'users': 4, 'login': 1000}\n",
    "\n",
    "\n",
    "final_dict = dict_with_notall_apperance_keys(n1,n2,n3)\n",
    "\n",
    "print(final_dict)"
   ]
  }
 ],
 "metadata": {
  "kernelspec": {
   "display_name": "dataenv",
   "language": "python",
   "name": "python3"
  },
  "language_info": {
   "codemirror_mode": {
    "name": "ipython",
    "version": 3
   },
   "file_extension": ".py",
   "mimetype": "text/x-python",
   "name": "python",
   "nbconvert_exporter": "python",
   "pygments_lexer": "ipython3",
   "version": "3.10.13"
  }
 },
 "nbformat": 4,
 "nbformat_minor": 2
}
